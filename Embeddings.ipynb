{
  "nbformat": 4,
  "nbformat_minor": 0,
  "metadata": {
    "colab": {
      "provenance": []
    },
    "kernelspec": {
      "name": "python3",
      "display_name": "Python 3"
    },
    "language_info": {
      "name": "python"
    }
  },
  "cells": [
    {
      "cell_type": "markdown",
      "source": [
        "# Embeddings con OpenAI\n",
        "\n",
        "En este notebook podes ver como crear embedding utilizando los modelos de OpenAI.\n",
        "Los archivos creados se deben subir al site https://projector.tensorflow.org/ para ver su representación gráfica.\n",
        "\n",
        "\n",
        "\n",
        "Notebook creado por [Diego Lopez Castan](https://www.diegolopezcastan.com/)."
      ],
      "metadata": {
        "id": "7WO-XBFddXov"
      }
    },
    {
      "cell_type": "code",
      "execution_count": 2,
      "metadata": {
        "id": "12ruvmXyPjUL"
      },
      "outputs": [],
      "source": [
        "# Importar librerías necesarias\n",
        "\n",
        "import openai\n",
        "import pandas as pd\n",
        "from getpass import getpass\n",
        "\n",
        "from openai.embeddings_utils import get_embedding\n",
        "from openai.embeddings_utils import cosine_similarity"
      ]
    },
    {
      "cell_type": "code",
      "source": [
        "# Ingresa las palabras para crear embeddings\n",
        "\n",
        "words = [\"casa\", \"silla\", \"mesa\", \"auto\", \"gato\", \"perro\", \"pez\"]"
      ],
      "metadata": {
        "id": "lHW2j9AwRNs3"
      },
      "execution_count": 4,
      "outputs": []
    },
    {
      "cell_type": "code",
      "source": [
        "# Crear dataframe con las palabras seleccionadas\n",
        "\n",
        "df = pd.DataFrame(words, columns=['words'])"
      ],
      "metadata": {
        "id": "AEU7ZFr8YgtJ"
      },
      "execution_count": 5,
      "outputs": []
    },
    {
      "cell_type": "code",
      "source": [
        "# Función para crear embeddings\n",
        "\n",
        "def get_embeddings(text, model='text-embedding-ada-002'):\n",
        "    text = text.replace('\\n','')\n",
        "    return openai.Embedding.create(input = [text], model=model)['data'][0]['embedding']"
      ],
      "metadata": {
        "id": "6PgiM-OcZEI2"
      },
      "execution_count": 7,
      "outputs": []
    },
    {
      "cell_type": "code",
      "source": [
        "# Creo columna con el vector de embedding por palabra\n",
        "\n",
        "modelo = 'text-embedding-ada-002'\n",
        "df['ada_embeddings'] =  df['words'].apply(lambda x :get_embeddings(x, model=modelo) )"
      ],
      "metadata": {
        "id": "eO5RlNUUZFwg"
      },
      "execution_count": 8,
      "outputs": []
    },
    {
      "cell_type": "code",
      "source": [
        "# Creo dataframe con el vector de embedding\n",
        "\n",
        "df_embeddings = pd.DataFrame(list(df['ada_embeddings']))"
      ],
      "metadata": {
        "id": "mbxKcc0iZivK"
      },
      "execution_count": 9,
      "outputs": []
    },
    {
      "cell_type": "code",
      "source": [
        "# Creo archivo con los embedding\n",
        "\n",
        "df_embeddings.to_csv('embedding.tsv',sep='\\t',index=False, header=False)"
      ],
      "metadata": {
        "id": "2qcjORbYZkd1"
      },
      "execution_count": 10,
      "outputs": []
    },
    {
      "cell_type": "code",
      "source": [
        "# Creo archivo con las palabras seleccionadas\n",
        "\n",
        "df[['words']].to_csv('labels.tsv',sep='\\t',index=False, header=False)"
      ],
      "metadata": {
        "id": "aBJjuF1DR0eo"
      },
      "execution_count": 11,
      "outputs": []
    },
    {
      "cell_type": "code",
      "source": [
        "# Descargar archivos\n",
        "\n",
        "import os\n",
        "from google.colab import files\n",
        "\n",
        "files.download('embedding.tsv')\n",
        "files.download('labels.tsv')"
      ],
      "metadata": {
        "colab": {
          "base_uri": "https://localhost:8080/",
          "height": 17
        },
        "id": "MVxN4ci6UYSR",
        "outputId": "a525fef0-e3ab-44a0-de1e-503bc7926330"
      },
      "execution_count": 16,
      "outputs": [
        {
          "output_type": "display_data",
          "data": {
            "text/plain": [
              "<IPython.core.display.Javascript object>"
            ],
            "application/javascript": [
              "\n",
              "    async function download(id, filename, size) {\n",
              "      if (!google.colab.kernel.accessAllowed) {\n",
              "        return;\n",
              "      }\n",
              "      const div = document.createElement('div');\n",
              "      const label = document.createElement('label');\n",
              "      label.textContent = `Downloading \"${filename}\": `;\n",
              "      div.appendChild(label);\n",
              "      const progress = document.createElement('progress');\n",
              "      progress.max = size;\n",
              "      div.appendChild(progress);\n",
              "      document.body.appendChild(div);\n",
              "\n",
              "      const buffers = [];\n",
              "      let downloaded = 0;\n",
              "\n",
              "      const channel = await google.colab.kernel.comms.open(id);\n",
              "      // Send a message to notify the kernel that we're ready.\n",
              "      channel.send({})\n",
              "\n",
              "      for await (const message of channel.messages) {\n",
              "        // Send a message to notify the kernel that we're ready.\n",
              "        channel.send({})\n",
              "        if (message.buffers) {\n",
              "          for (const buffer of message.buffers) {\n",
              "            buffers.push(buffer);\n",
              "            downloaded += buffer.byteLength;\n",
              "            progress.value = downloaded;\n",
              "          }\n",
              "        }\n",
              "      }\n",
              "      const blob = new Blob(buffers, {type: 'application/binary'});\n",
              "      const a = document.createElement('a');\n",
              "      a.href = window.URL.createObjectURL(blob);\n",
              "      a.download = filename;\n",
              "      div.appendChild(a);\n",
              "      a.click();\n",
              "      div.remove();\n",
              "    }\n",
              "  "
            ]
          },
          "metadata": {}
        },
        {
          "output_type": "display_data",
          "data": {
            "text/plain": [
              "<IPython.core.display.Javascript object>"
            ],
            "application/javascript": [
              "download(\"download_6c944c1c-959f-43db-bf80-86c4377c4aaf\", \"embedding.tsv\", 230245)"
            ]
          },
          "metadata": {}
        },
        {
          "output_type": "display_data",
          "data": {
            "text/plain": [
              "<IPython.core.display.Javascript object>"
            ],
            "application/javascript": [
              "\n",
              "    async function download(id, filename, size) {\n",
              "      if (!google.colab.kernel.accessAllowed) {\n",
              "        return;\n",
              "      }\n",
              "      const div = document.createElement('div');\n",
              "      const label = document.createElement('label');\n",
              "      label.textContent = `Downloading \"${filename}\": `;\n",
              "      div.appendChild(label);\n",
              "      const progress = document.createElement('progress');\n",
              "      progress.max = size;\n",
              "      div.appendChild(progress);\n",
              "      document.body.appendChild(div);\n",
              "\n",
              "      const buffers = [];\n",
              "      let downloaded = 0;\n",
              "\n",
              "      const channel = await google.colab.kernel.comms.open(id);\n",
              "      // Send a message to notify the kernel that we're ready.\n",
              "      channel.send({})\n",
              "\n",
              "      for await (const message of channel.messages) {\n",
              "        // Send a message to notify the kernel that we're ready.\n",
              "        channel.send({})\n",
              "        if (message.buffers) {\n",
              "          for (const buffer of message.buffers) {\n",
              "            buffers.push(buffer);\n",
              "            downloaded += buffer.byteLength;\n",
              "            progress.value = downloaded;\n",
              "          }\n",
              "        }\n",
              "      }\n",
              "      const blob = new Blob(buffers, {type: 'application/binary'});\n",
              "      const a = document.createElement('a');\n",
              "      a.href = window.URL.createObjectURL(blob);\n",
              "      a.download = filename;\n",
              "      div.appendChild(a);\n",
              "      a.click();\n",
              "      div.remove();\n",
              "    }\n",
              "  "
            ]
          },
          "metadata": {}
        },
        {
          "output_type": "display_data",
          "data": {
            "text/plain": [
              "<IPython.core.display.Javascript object>"
            ],
            "application/javascript": [
              "download(\"download_d9479448-85cc-4b38-9916-e53165a1db34\", \"labels.tsv\", 36)"
            ]
          },
          "metadata": {}
        }
      ]
    }
  ]
}